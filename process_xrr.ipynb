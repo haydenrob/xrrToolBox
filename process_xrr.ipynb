{
 "cells": [
  {
   "cell_type": "markdown",
   "id": "f1bbb94d",
   "metadata": {},
   "source": [
    "# `.rasx` file reader\n",
    "\n",
    "This notebook contains a demonstration on how to use the software in `rasx_process` to convert the binary `.rasx` files created by Rigaku X-ray reflectometers into text files.\n",
    "You will need the `lxml` packagae, which can be installed via `pip install lxml`."
   ]
  },
  {
   "cell_type": "code",
   "execution_count": null,
   "id": "68caa2ac-b384-4ca7-850c-1f12fb42d274",
   "metadata": {},
   "outputs": [],
   "source": [
    "from process_rasx import XRR\n",
    "import matplotlib.pyplot as plt"
   ]
  },
  {
   "cell_type": "code",
   "execution_count": null,
   "id": "34c3b2e2-3d20-42a5-8fa9-c0bc079e36da",
   "metadata": {},
   "outputs": [],
   "source": [
    "xrr = XRR(beamheight=0.05, samplewidth=10.0)"
   ]
  },
  {
   "cell_type": "code",
   "execution_count": null,
   "id": "b051900a-b789-426f-8257-16853bd804c3",
   "metadata": {},
   "outputs": [],
   "source": [
    "# Run the below command to manually define your .rasx file.\n",
    "# xrr.process_data(\"PNIPAM_013_III.rasx\")\n",
    "\n",
    "# Run the below command to display the dialogue box to select your .rasx file.\n",
    "xrr.process_data()"
   ]
  },
  {
   "cell_type": "code",
   "execution_count": null,
   "id": "4a9b1ca7-f2df-44de-806f-0e6dd3b5a6e2",
   "metadata": {},
   "outputs": [],
   "source": [
    "xrr.footprint_corr()\n",
    "xrr.theta_to_q()\n",
    "xrr.normalise()"
   ]
  },
  {
   "cell_type": "code",
   "execution_count": null,
   "id": "d8b58002-525e-40e2-aa97-a4fafaaeeed4",
   "metadata": {},
   "outputs": [],
   "source": [
    "xrr.plot()"
   ]
  },
  {
   "cell_type": "code",
   "execution_count": null,
   "id": "b8b71b71-e693-4769-ab0d-ad64be78e3f5",
   "metadata": {},
   "outputs": [],
   "source": [
    "xrr.save_data()"
   ]
  },
  {
   "cell_type": "code",
   "execution_count": null,
   "id": "68382a08-ff3a-4b69-8cfe-45cf91c3285c",
   "metadata": {},
   "outputs": [],
   "source": [
    "xrr.measurementCond"
   ]
  },
  {
   "cell_type": "code",
   "execution_count": null,
   "id": "79e88380-aa40-4441-bde9-97c440184982",
   "metadata": {},
   "outputs": [],
   "source": []
  }
 ],
 "metadata": {
  "kernelspec": {
   "display_name": "science",
   "language": "python",
   "name": "python3"
  },
  "language_info": {
   "codemirror_mode": {
    "name": "ipython",
    "version": 3
   },
   "file_extension": ".py",
   "mimetype": "text/x-python",
   "name": "python",
   "nbconvert_exporter": "python",
   "pygments_lexer": "ipython3",
   "version": "3.12.8"
  }
 },
 "nbformat": 4,
 "nbformat_minor": 5
}
